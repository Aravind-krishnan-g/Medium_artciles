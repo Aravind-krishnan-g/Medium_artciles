{
 "cells": [
  {
   "cell_type": "markdown",
   "id": "c100ad3e",
   "metadata": {},
   "source": [
    "## 1. JACCARD SIMILARITY"
   ]
  },
  {
   "cell_type": "code",
   "execution_count": 30,
   "id": "aeb2cb15",
   "metadata": {},
   "outputs": [],
   "source": [
    "def jaccard_Similarity(set_1,set_2):\n",
    "    intersection=len(set_1.intersection(set_2)) # finding the intersection of the two sets\n",
    "    print(\"Number of elements intersecting: \",intersection)\n",
    "    union=len(set_1.union(set_2)) # finding the union of the two sets\n",
    "    print(\"Number of elements in the union: \",union)\n",
    "    return float(intersection)/union\n",
    "   \n",
    "def calculate():\n",
    "    print(\"********************************\")\n",
    "    print(\"First set: \", set_1) # displaying elements of sets\n",
    "    print(\"Second set: \", set_2)\n",
    "    print(\"********************************\")\n",
    "    js=jaccard_Similarity(set_1,set_2) # calculating jaccard similarity\n",
    "    print(\"Jaccard Similarity: \", round(js,2)) # rounding up the value and printing the result  \n"
   ]
  },
  {
   "cell_type": "code",
   "execution_count": 31,
   "id": "c2472ccb",
   "metadata": {},
   "outputs": [
    {
     "name": "stdout",
     "output_type": "stream",
     "text": [
      "********************************\n",
      "First set:  {'java', 'rust', 'golang', 'python'}\n",
      "Second set:  {'cpp', 'rust', 'golang', 'python'}\n",
      "********************************\n",
      "Number of elements intersecting:  3\n",
      "Number of elements in the union:  5\n",
      "Jaccard Similarity:  0.6\n"
     ]
    }
   ],
   "source": [
    "set_1={\"java\",\"rust\",\"python\",\"golang\"} # change the elements in sets to play with the code\n",
    "set_2={\"rust\",\"cpp\",\"python\",\"golang\"}\n",
    "calculate() # running the code"
   ]
  },
  {
   "cell_type": "markdown",
   "id": "527b0074",
   "metadata": {},
   "source": [
    "## 2. SHINGLING"
   ]
  },
  {
   "cell_type": "markdown",
   "id": "2147f3af",
   "metadata": {},
   "source": [
    "### 2.1 Character level shingling"
   ]
  },
  {
   "cell_type": "code",
   "execution_count": 49,
   "id": "3403ab16",
   "metadata": {},
   "outputs": [],
   "source": [
    "import re\n",
    "def shingling(text,k):\n",
    "    text=text.replace(\" \",\"\") # replace blank space\n",
    "    output=[]\n",
    "    shingle=\"\"\n",
    "    for i in range(len(text)):\n",
    "        if i+k<len(text):\n",
    "            shingle=text[i:i+k]\n",
    "        else:\n",
    "            shingle=text[i:]\n",
    "            rem=k-len(shingle)\n",
    "            shingle=shingle+text[:rem]\n",
    "        output.append(shingle)          \n",
    "    return output"
   ]
  },
  {
   "cell_type": "code",
   "execution_count": 50,
   "id": "eac13b1c",
   "metadata": {},
   "outputs": [
    {
     "name": "stdout",
     "output_type": "stream",
     "text": [
      "The sky is blue\n",
      "{'ueT', 'hes', 'The', 'sky', 'isb', 'yis', 'blu', 'esk', 'sbl', 'eTh', 'lue', 'kyi'}\n"
     ]
    }
   ],
   "source": [
    "text=\"The sky is blue\" # change the text and k value to play with the code\n",
    "k=3 # number of characters in each shingle\n",
    "print(text)\n",
    "print(set(shingling(text,k)))"
   ]
  },
  {
   "cell_type": "markdown",
   "id": "b2428697",
   "metadata": {},
   "source": [
    "### 2.2 Word level shingling"
   ]
  },
  {
   "cell_type": "code",
   "execution_count": 63,
   "id": "d738715e",
   "metadata": {},
   "outputs": [],
   "source": [
    "def word_shingling(text,k):\n",
    "    list_of_words=text.split(\" \")\n",
    "    output=[]\n",
    "    for i in range(len(list_of_words)):\n",
    "        if i+k<len(list_of_words):\n",
    "            shingle= \" \".join(list_of_words[i:i+k])\n",
    "        else:\n",
    "            temp=list_of_words[i:]\n",
    "            rem=k-len(temp)\n",
    "            shingle=\" \".join(temp+list_of_words[:rem])\n",
    "        output.append(shingle)         \n",
    "    return output"
   ]
  },
  {
   "cell_type": "code",
   "execution_count": 65,
   "id": "2db8b6c1",
   "metadata": {},
   "outputs": [
    {
     "name": "stdout",
     "output_type": "stream",
     "text": [
      "The sky is blue\n",
      "{'is blue The', 'The sky is', 'sky is blue', 'blue The sky'}\n"
     ]
    }
   ],
   "source": [
    "text=\"The sky is blue\" # change the text and k value to play with the code\n",
    "k=3 # number of characters in each shingle\n",
    "print(text)\n",
    "print(set(word_shingling(text,k)))"
   ]
  }
 ],
 "metadata": {
  "kernelspec": {
   "display_name": "Python 3",
   "language": "python",
   "name": "python3"
  },
  "language_info": {
   "codemirror_mode": {
    "name": "ipython",
    "version": 3
   },
   "file_extension": ".py",
   "mimetype": "text/x-python",
   "name": "python",
   "nbconvert_exporter": "python",
   "pygments_lexer": "ipython3",
   "version": "3.8.3"
  }
 },
 "nbformat": 4,
 "nbformat_minor": 5
}
